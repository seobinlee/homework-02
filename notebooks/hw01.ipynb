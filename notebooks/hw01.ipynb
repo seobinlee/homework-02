{
  "cells": [
    {
      "cell_type": "markdown",
      "metadata": {},
      "source": [
        "# DATASCI 101: Homework 02\n",
        "\n",
        "\n",
        "This is an iPython Notebook. You can edit the cells to answer the prompts. Feel free to add more cells as needed. Use \"Markdown\" cells writing text. When you are finished, use the Explorer pane to find this file. Right click and select download. Upload your submission on Gradescope!\n",
        "\n",
        "\n",
        "## Question 1\n",
        "\n",
        "### Q1.a\n",
        "\n",
        "Demonstrate using a Jupyter notebook.\n",
        "\n",
        "Create a new code cell after this cell and create a variable called `password` that contains the string \"chinchilla\" as its only item. Then run the cell. \n",
        "\n",
        "---\n"
      ]
    },
    {
      "cell_type": "code",
      "execution_count": 1,
      "metadata": {},
      "outputs": [],
      "source": [
        "password = 'chinchilla'"
      ]
    },
    {
      "cell_type": "markdown",
      "metadata": {},
      "source": [
        "\n",
        "Now create another code cell. In this one enter only the word `password` and run the cell. \n",
        "\n",
        "----\n"
      ]
    },
    {
      "cell_type": "code",
      "execution_count": 2,
      "metadata": {},
      "outputs": [
        {
          "data": {
            "text/plain": [
              "'chinchilla'"
            ]
          },
          "execution_count": 2,
          "metadata": {},
          "output_type": "execute_result"
        }
      ],
      "source": [
        "password"
      ]
    },
    {
      "cell_type": "markdown",
      "metadata": {},
      "source": [
        "\n",
        "Now edit this text cell to add an explanation of why the two cells behave differently.\n",
        "\n",
        "\n",
        "The first cell, password = 'chinchilla', is an assignment operator. This means that when we run this code, we are assigning a string value of 'chinchilla' to the variable named password. In the second cell, we just typed in the variable name password after assigning it to the string value of 'chinchilla' in the previous cell. When we run the second cell, we are asking for the value of the variable, which is why we got an output of the string 'chinchilla'. The two cells behave differently since the first cell handles variable assignment and the second cell is accessing the value of the string variable password. \n",
        "\n",
        "---\n"
      ]
    },
    {
      "cell_type": "markdown",
      "metadata": {},
      "source": [
        "Now create a cell that creates the `password` variable on one line and then has only the word `password` on the next line. Run the cell. Create another text cell after that one and explain how you can use the behavior you are seeing here to show your results on homework assignments."
      ]
    },
    {
      "cell_type": "code",
      "execution_count": null,
      "metadata": {},
      "outputs": [],
      "source": [
        "password = ' '\n",
        "password"
      ]
    },
    {
      "cell_type": "markdown",
      "metadata": {},
      "source": [
        "We can use the behavior of the cell above for homework assignments by noticing how Python keeps track of variable values and displays their output. Since the second line makes it possible for the variable value to be outputted, this is how we can show results. "
      ]
    },
    {
      "cell_type": "markdown",
      "metadata": {},
      "source": [
        "\n",
        "\n",
        "### Q1.b\n",
        "\n",
        "In the rest of this homework, we are going to write some code related to password security. \n",
        "\n",
        "Suppose a website stores passwords in plain text. The user will supply a password, and the website will store it in a variable called `attempt`.\n",
        "\n",
        "Write a function that takes in the `attempt` and the `password` and returns `True` if they are the same and `False` otherwise.\n",
        "\n",
        "* Verify (show in code) that your function works by calling it with the password \"chinchilla\" and the attempt \"chinchilla\".\n",
        "* Verify that your function works by calling it with the password \"chinchilla\" and the attempt \"Chinchilla\".\n",
        "\n",
        "Use comments to explain what you expect to see in the output of your function from previous two applications of your function."
      ]
    },
    {
      "cell_type": "code",
      "execution_count": 9,
      "metadata": {},
      "outputs": [
        {
          "data": {
            "text/plain": [
              "True"
            ]
          },
          "execution_count": 9,
          "metadata": {},
          "output_type": "execute_result"
        }
      ],
      "source": [
        "attempt = 'chinchilla'\n",
        "password = 'chinchilla'\n",
        "\n",
        "def password_security(attempt, password):\n",
        "    if attempt == password:\n",
        "        return True\n",
        "    else: \n",
        "        return False\n",
        "    \n",
        "password_security(attempt, password)\n",
        "    \n",
        "# from the output of this code, we would expect to get a return value of 'True' \n",
        "# since the attempt variable and the password variable are both set to 'chinchilla', \n",
        "# which are identical variable names. "
      ]
    },
    {
      "cell_type": "code",
      "execution_count": 10,
      "metadata": {},
      "outputs": [
        {
          "data": {
            "text/plain": [
              "False"
            ]
          },
          "execution_count": 10,
          "metadata": {},
          "output_type": "execute_result"
        }
      ],
      "source": [
        "attempt = 'Chinchilla'\n",
        "password = 'chinchilla'\n",
        "\n",
        "def password_security(attempt, password):\n",
        "    if attempt == password:\n",
        "        return True\n",
        "    else: \n",
        "        return False\n",
        "    \n",
        "password_security(attempt, password)\n",
        "    \n",
        "# from the output of this code, we would expect to get a return value of 'False' \n",
        "# since the attempt variable and the password variable are not equivalent\n",
        "# due to the C in 'chinchilla' being uppercase on the attempt"
      ]
    },
    {
      "cell_type": "markdown",
      "metadata": {},
      "source": [
        "### Q1.c\n",
        "\n",
        "Suppose we have a **dictionary** of users and their passwords. The keys are the usernames and the values are the passwords. \n",
        "\n",
        "Here are several users and their passwords:\n",
        "\n",
        "| Username | Password |\n",
        "|----------|----------|\n",
        "| alice    | chinchilla |\n",
        "| bob      | 123456 |\n",
        "| charlie  | password |\n",
        "\n",
        "Create a dictionary called `users` that contains the above information.\n",
        "\n",
        "Now write a function that takes in a `username` and a `password` and returns `True` if the `username` is in the `users` dictionary and the `password` matches the password in the dictionary. Otherwise, it should return `False`.\n",
        "\n",
        "* Verify that your function works by calling it with the username \"alice\" and the password \"chinchilla\".\n",
        "* Verify that your function works by calling it with the username \"alice\" and the password \"Chinchilla\".\n",
        "* Verify that your function works by calling it with the username \"bobby\" and the password \"123456\".\n",
        "\n",
        "Again, use comments to explain what you expect to see in the output of your function from previous three applications of your function.\n",
        "\n",
        "To get you started, here is a little helper function that will return `True` if a key is in a dictionary and `False` otherwise."
      ]
    },
    {
      "cell_type": "code",
      "execution_count": 3,
      "metadata": {},
      "outputs": [
        {
          "name": "stdout",
          "output_type": "stream",
          "text": [
            "True\n",
            "False\n",
            "False\n"
          ]
        }
      ],
      "source": [
        "users = {\n",
        "    \"alice\": \"chinchilla\", \n",
        "    \"bob\": \"123456\", \n",
        "    \"charlie\": \"password\"\n",
        "}\n",
        "    \n",
        "def key_in_dict(key, d):\n",
        "    if key in users and users[key] == d:\n",
        "        return True\n",
        "    else:\n",
        "        return False\n",
        "    return key in d\n",
        "\n",
        "print(key_in_dict(\"alice\", \"chinchilla\"))\n",
        "print(key_in_dict(\"alice\", \"Chinchilla\"))\n",
        "print(key_in_dict(\"bobby\", \"123456\"))"
      ]
    },
    {
      "cell_type": "markdown",
      "metadata": {},
      "source": [
        "Note: think about how you can use `if` statements to help you (or ask the AI assistant for help).\n",
        "\n",
        "\n",
        "### Q1.d\n",
        "\n",
        "Generally, we wouldn't want to keep strings as plain text. A frequent strategy is to use a [crypographic hash function](https://en.wikipedia.org/wiki/Cryptographic_hash_function) to make the plain text password unreadable. A hashing function will replace the input with a different string or number. It is very difficult to go backwards from the hashed value to the original string, but every time we hash, we get the same value.\n",
        "\n",
        "Use the `hash2` function on the password. Demonstrate that each time we use it we get the same value by calling it twice (remember that only the last line of a cell will print out). You answer should have an explicit `True` value as the output."
      ]
    },
    {
      "cell_type": "code",
      "execution_count": 20,
      "metadata": {},
      "outputs": [
        {
          "data": {
            "text/plain": [
              "True"
            ]
          },
          "execution_count": 20,
          "metadata": {},
          "output_type": "execute_result"
        }
      ],
      "source": [
        "import hashlib\n",
        "\n",
        "# define the hash2 function\n",
        "def hash2(x):\n",
        "  return hashlib.sha256(x.encode('utf-8')).hexdigest()\n",
        "\n",
        "# hash the password twice\n",
        "password = 'my_secure_password'\n",
        "hash1 = hash2(password)\n",
        "hash2_value = hash2(password)\n",
        "\n",
        "# check if the two hash values are identical\n",
        "hash1 == hash2_value\n",
        "  "
      ]
    },
    {
      "cell_type": "markdown",
      "metadata": {},
      "source": [
        "### Q1.e\n",
        "\n",
        "If a list of passwords were stolen, the malicious actors might be able to undo the hashing by guessing common words. This called a dictionary attack, as each word (and often combinations of common words and other characters) is hashed and then compared to the stolen list of passwords to see if it is present.\n"
      ]
    },
    {
      "cell_type": "code",
      "execution_count": 21,
      "metadata": {},
      "outputs": [
        {
          "data": {
            "text/plain": [
              "-8040739781225697760"
            ]
          },
          "execution_count": 21,
          "metadata": {},
          "output_type": "execute_result"
        }
      ],
      "source": [
        "hash(\"wolverine\")"
      ]
    },
    {
      "cell_type": "code",
      "execution_count": 22,
      "metadata": {},
      "outputs": [
        {
          "data": {
            "text/plain": [
              "-4468818883760354138"
            ]
          },
          "execution_count": 22,
          "metadata": {},
          "output_type": "execute_result"
        }
      ],
      "source": [
        "stolen_password = 'b00ef262afae566b51f740124a6b12d982a2cff1bbf2ab5632cb548e98da6feb'\n",
        "hash(stolen_password)"
      ]
    },
    {
      "cell_type": "markdown",
      "metadata": {},
      "source": [
        "Hash the following three words to see if one of them is the stolen password. Use `==` to evaluate if the hashed version is the same as the stolen password hash. Use a for loop or list comprehension to avoid repeating yourself. Can we guess the password?\n",
        "\n",
        "* badger\n",
        "* wolverine\n",
        "* jaguar"
      ]
    },
    {
      "cell_type": "code",
      "execution_count": 23,
      "metadata": {},
      "outputs": [
        {
          "name": "stdout",
          "output_type": "stream",
          "text": [
            "-8040739781225697760\n",
            "-4468818883760354138\n",
            "1065910964864598880\n",
            "-4468818883760354138\n",
            "6836588906417586015\n",
            "-4468818883760354138\n"
          ]
        }
      ],
      "source": [
        "passwords = {\"badger\", \"wolverine\", \"jaguar\"}\n",
        "\n",
        "for animal in passwords: \n",
        "    hashed_password = hash(animal)\n",
        "    print(hashed_password)\n",
        "    hash_stolen_password = hash(stolen_password)\n",
        "    print(hash_stolen_password)\n",
        "    if hashed_password == stolen_password:\n",
        "        print(hashed_password)\n",
        "\n",
        "# none of the hashed passwords match the stolen password hash\n",
        "    "
      ]
    },
    {
      "cell_type": "markdown",
      "metadata": {},
      "source": [
        "### Q1.f\n",
        "\n",
        "A better way to protect passwords is to add a \"salt\" to all user's passwords on a given site. The salt is a secret string that is prepended to each password *before* hashing.\n",
        "\n",
        "Complete the function below that combines the `salt` with the supplied `password` to strengthen it. Demonstrate that just hashing the correct password is insufficient to guess the password if you do not know the salt as well (again use `==`)."
      ]
    },
    {
      "cell_type": "code",
      "execution_count": 24,
      "metadata": {},
      "outputs": [
        {
          "name": "stdout",
          "output_type": "stream",
          "text": [
            "Salted hash of 'cardinal': 5061da3d9a48cc1753c211279b3bd12e48e438cbc7b6330e64230126c1ffcbd9\n",
            "Hash of 'cardinal' without salt: 2a09783b1c474294d122b82b93b01c3701bc9e4d65b3ae60da211a4121152a43\n",
            "Hashes match: False\n"
          ]
        }
      ],
      "source": [
        "def salted_hash(password):\n",
        "  salt = \"zoology\"\n",
        "  salted_password = salt + password\n",
        "  hashed_password = hashlib.sha256(salted_password.encode()).hexdigest()\n",
        "  return hashed_password # replace 0 with the salted hash\n",
        "\n",
        "# compute the salted and hashed version of the password \"cardinal\"\n",
        "hashed_with_salt = salted_hash(\"cardinal\")\n",
        "print(f\"Salted hash of 'cardinal': {hashed_with_salt}\")\n",
        "\n",
        "# demonstrate that we cannot guess without the salt.\n",
        "hashed_without_salt = hashlib.sha256(\"cardinal\".encode()).hexdigest()\n",
        "print(f\"Hash of 'cardinal' without salt: {hashed_without_salt}\")\n",
        "\n",
        "print(f\"Hashes match: {hashed_with_salt == hashed_without_salt}\")"
      ]
    },
    {
      "cell_type": "markdown",
      "metadata": {},
      "source": [
        "## Question 2\n",
        "\n",
        "### Q2.a\n",
        "\n",
        "Run the code in the following cell. What does the `%` operator do?"
      ]
    },
    {
      "cell_type": "code",
      "execution_count": 25,
      "metadata": {},
      "outputs": [
        {
          "data": {
            "text/plain": [
              "[1, 0, 1]"
            ]
          },
          "execution_count": 25,
          "metadata": {},
          "output_type": "execute_result"
        }
      ],
      "source": [
        "[3 % 2, 4 % 2, 5 % 2]"
      ]
    },
    {
      "cell_type": "markdown",
      "metadata": {},
      "source": [
        "The code in the cell outputs the remainder of each arithmetic operation in the list. The % operator is called modulo, and it returns the remainder of each division problem. "
      ]
    },
    {
      "cell_type": "markdown",
      "metadata": {},
      "source": [
        "### Q2.b\n",
        "\n",
        "Complete the following function that will compute if an input is even or odd:"
      ]
    },
    {
      "cell_type": "code",
      "execution_count": 26,
      "metadata": {},
      "outputs": [],
      "source": [
        "def is_odd(num):\n",
        "    if num % 2 == 0:\n",
        "        return False\n",
        "    else: \n",
        "        return True"
      ]
    },
    {
      "cell_type": "code",
      "execution_count": 27,
      "metadata": {},
      "outputs": [
        {
          "data": {
            "text/plain": [
              "False"
            ]
          },
          "execution_count": 27,
          "metadata": {},
          "output_type": "execute_result"
        }
      ],
      "source": [
        "is_odd(16) # Should return False"
      ]
    },
    {
      "cell_type": "code",
      "execution_count": 28,
      "metadata": {},
      "outputs": [
        {
          "data": {
            "text/plain": [
              "True"
            ]
          },
          "execution_count": 28,
          "metadata": {},
          "output_type": "execute_result"
        }
      ],
      "source": [
        "is_odd(17) # Should return True"
      ]
    },
    {
      "cell_type": "markdown",
      "metadata": {},
      "source": [
        "### Q2.c\n",
        "\n",
        "Here is some input data:"
      ]
    },
    {
      "cell_type": "code",
      "execution_count": 29,
      "metadata": {},
      "outputs": [],
      "source": [
        "some_numbers = [91, 88, 38, 103, 199372, 3, 4945, 20098]"
      ]
    },
    {
      "cell_type": "markdown",
      "metadata": {},
      "source": [
        "Write a **for loop** to select just the odd numbers of `some_numbers`. Make sure to use your function from part (b). Print out your result."
      ]
    },
    {
      "cell_type": "code",
      "execution_count": 30,
      "metadata": {},
      "outputs": [
        {
          "name": "stdout",
          "output_type": "stream",
          "text": [
            "[91, 103, 3, 4945]\n"
          ]
        }
      ],
      "source": [
        "# create an empty list to store odd numbers\n",
        "odd_numbers = []\n",
        "\n",
        "# write a for loop to and use the function from part b\n",
        "for number in some_numbers: \n",
        "    if is_odd(number):\n",
        "        odd_numbers.append(number)\n",
        "\n",
        "# print result\n",
        "print(odd_numbers)"
      ]
    },
    {
      "cell_type": "markdown",
      "metadata": {},
      "source": [
        "### Q2d\n",
        "\n",
        "Using a **list comprehension** select just the odd elements of `some_numbers`, convert them to strings (using the `str` function), and then `hash2` them. **Do not** use any results from part (c) in your solution."
      ]
    },
    {
      "cell_type": "code",
      "execution_count": 32,
      "metadata": {},
      "outputs": [
        {
          "name": "stdout",
          "output_type": "stream",
          "text": [
            "['1da51b8d8ff98f6a48f80ae79fe3ca6c26e1abb7b7d125259255d6d2b875ea08', '454f63ac30c8322997ef025edff6abd23e0dbe7b8a3d5126a894e4a168c1b59b', '4e07408562bedb8b60ce05c1decfe3ad16b72230967de01f640b7e4729b49fce', 'dcc29e4daf71d69ed930fed1226afabff8390db9a6ead22e08392878ffa7d65d']\n"
          ]
        }
      ],
      "source": [
        "hashed_odds = [hash2(str(num)) for num in some_numbers if num % 2 != 0]\n",
        "print(hashed_odds)"
      ]
    },
    {
      "cell_type": "markdown",
      "metadata": {},
      "source": [
        "### Q2e\n",
        "\n",
        "For a particular website, suppose users could only choose positive, whole numbers as passwords, and the site neglected use salting to make the numbers harder to guess.\n",
        "\n",
        "Here is an example stolen value."
      ]
    },
    {
      "cell_type": "code",
      "execution_count": 33,
      "metadata": {},
      "outputs": [
        {
          "data": {
            "text/plain": [
              "-1474526769917432449"
            ]
          },
          "execution_count": 33,
          "metadata": {},
          "output_type": "execute_result"
        }
      ],
      "source": [
        "hash(str(206))"
      ]
    },
    {
      "cell_type": "code",
      "execution_count": 34,
      "metadata": {
        "executionInfo": {
          "elapsed": 150,
          "status": "ok",
          "timestamp": 1707340720865,
          "user": {
            "displayName": "Sang Hoo Kook",
            "userId": "10303743989712676976"
          },
          "user_tz": 300
        }
      },
      "outputs": [],
      "source": [
        "hashed_number = '5cf4e26bd3d87da5e03f80a43a64f1220a1f4ba9e1d6348caea83c06353c3f39'"
      ]
    },
    {
      "cell_type": "markdown",
      "metadata": {},
      "source": [
        "Carry out a dictionary attach by implementing the following:\n",
        "\n",
        "* Write a function that takes a number as an input, and returns True if that number (after being coverted to a string) hashes to the `hashed_number` value.\n",
        "* Use this function to find out if value in 0 to 100000 was the password. (Hint: use the `range(a, b)` function which gives back a sequence of values from a to (b - 1)).\n"
      ]
    },
    {
      "cell_type": "code",
      "execution_count": 35,
      "metadata": {},
      "outputs": [
        {
          "name": "stdout",
          "output_type": "stream",
          "text": [
            "Password not found in the given range.\n",
            "Password not found in the given range.\n",
            "Password not found in the given range.\n",
            "Password not found in the given range.\n",
            "Password not found in the given range.\n",
            "Password not found in the given range.\n",
            "Password not found in the given range.\n",
            "Password not found in the given range.\n",
            "Password not found in the given range.\n",
            "Password not found in the given range.\n",
            "Password not found in the given range.\n",
            "Password not found in the given range.\n",
            "Password not found in the given range.\n",
            "Password not found in the given range.\n",
            "Password not found in the given range.\n",
            "Password not found in the given range.\n",
            "Password not found in the given range.\n",
            "Password not found in the given range.\n",
            "Password not found in the given range.\n",
            "Password not found in the given range.\n",
            "Password not found in the given range.\n",
            "Password not found in the given range.\n",
            "Password not found in the given range.\n",
            "Password not found in the given range.\n",
            "Password not found in the given range.\n",
            "Password not found in the given range.\n",
            "Password not found in the given range.\n",
            "Password not found in the given range.\n",
            "Password not found in the given range.\n",
            "Password not found in the given range.\n",
            "Password not found in the given range.\n",
            "Password not found in the given range.\n",
            "Password not found in the given range.\n",
            "Password not found in the given range.\n",
            "Password not found in the given range.\n",
            "Password not found in the given range.\n",
            "Password not found in the given range.\n",
            "Password not found in the given range.\n",
            "Password not found in the given range.\n",
            "Password not found in the given range.\n",
            "Password not found in the given range.\n",
            "Password not found in the given range.\n",
            "Password not found in the given range.\n",
            "Password not found in the given range.\n",
            "Password not found in the given range.\n",
            "Password not found in the given range.\n",
            "Password not found in the given range.\n",
            "Password not found in the given range.\n",
            "Password not found in the given range.\n",
            "Password not found in the given range.\n",
            "Password not found in the given range.\n",
            "Password not found in the given range.\n",
            "Password not found in the given range.\n",
            "Password not found in the given range.\n",
            "Password not found in the given range.\n",
            "Password not found in the given range.\n",
            "Password not found in the given range.\n",
            "Password not found in the given range.\n",
            "Password not found in the given range.\n",
            "Password not found in the given range.\n",
            "Password not found in the given range.\n",
            "Password not found in the given range.\n",
            "Password not found in the given range.\n",
            "Password not found in the given range.\n",
            "Password not found in the given range.\n",
            "Password not found in the given range.\n",
            "Password not found in the given range.\n",
            "Password not found in the given range.\n",
            "Password not found in the given range.\n",
            "Password not found in the given range.\n",
            "Password not found in the given range.\n",
            "Password not found in the given range.\n",
            "Password not found in the given range.\n",
            "Password not found in the given range.\n",
            "Password not found in the given range.\n",
            "Password not found in the given range.\n",
            "Password not found in the given range.\n",
            "Password not found in the given range.\n",
            "Password not found in the given range.\n",
            "Password not found in the given range.\n",
            "Password not found in the given range.\n",
            "Password not found in the given range.\n",
            "Password not found in the given range.\n",
            "Password not found in the given range.\n",
            "Password not found in the given range.\n",
            "Password not found in the given range.\n",
            "Password not found in the given range.\n",
            "Password not found in the given range.\n",
            "Password not found in the given range.\n",
            "Password not found in the given range.\n",
            "Password not found in the given range.\n",
            "Password not found in the given range.\n",
            "Password not found in the given range.\n",
            "Password not found in the given range.\n",
            "Password not found in the given range.\n",
            "Password not found in the given range.\n",
            "Password not found in the given range.\n",
            "Password not found in the given range.\n",
            "Password not found in the given range.\n",
            "Password not found in the given range.\n",
            "Password not found in the given range.\n",
            "Password not found in the given range.\n",
            "Password not found in the given range.\n",
            "Password not found in the given range.\n",
            "Password not found in the given range.\n",
            "Password not found in the given range.\n",
            "Password not found in the given range.\n",
            "Password not found in the given range.\n",
            "Password not found in the given range.\n",
            "Password not found in the given range.\n",
            "Password not found in the given range.\n",
            "Password not found in the given range.\n",
            "Password not found in the given range.\n",
            "Password not found in the given range.\n",
            "Password not found in the given range.\n",
            "Password not found in the given range.\n",
            "Password not found in the given range.\n",
            "Password not found in the given range.\n",
            "Password not found in the given range.\n",
            "Password not found in the given range.\n",
            "Password not found in the given range.\n",
            "Password not found in the given range.\n",
            "Password not found in the given range.\n",
            "Password not found in the given range.\n",
            "Password not found in the given range.\n",
            "Password not found in the given range.\n",
            "Password not found in the given range.\n",
            "Password not found in the given range.\n",
            "Password not found in the given range.\n",
            "Password not found in the given range.\n",
            "Password not found in the given range.\n",
            "Password not found in the given range.\n",
            "Password not found in the given range.\n",
            "Password not found in the given range.\n",
            "Password not found in the given range.\n",
            "Password not found in the given range.\n",
            "Password not found in the given range.\n",
            "Password not found in the given range.\n",
            "Password not found in the given range.\n",
            "Password not found in the given range.\n",
            "Password not found in the given range.\n",
            "Password not found in the given range.\n",
            "Password not found in the given range.\n",
            "Password not found in the given range.\n",
            "Password not found in the given range.\n",
            "Password not found in the given range.\n",
            "Password not found in the given range.\n",
            "Password not found in the given range.\n",
            "Password not found in the given range.\n",
            "Password not found in the given range.\n",
            "Password not found in the given range.\n",
            "Password not found in the given range.\n",
            "Password not found in the given range.\n",
            "Password not found in the given range.\n",
            "Password not found in the given range.\n",
            "Password not found in the given range.\n",
            "Password not found in the given range.\n",
            "Password not found in the given range.\n",
            "Password not found in the given range.\n",
            "Password not found in the given range.\n",
            "Password not found in the given range.\n",
            "Password not found in the given range.\n",
            "Password not found in the given range.\n",
            "Password not found in the given range.\n",
            "Password not found in the given range.\n",
            "Password not found in the given range.\n",
            "Password not found in the given range.\n",
            "Password not found in the given range.\n",
            "Password not found in the given range.\n",
            "Password not found in the given range.\n",
            "Password not found in the given range.\n",
            "Password not found in the given range.\n",
            "Password not found in the given range.\n",
            "Password not found in the given range.\n",
            "Password not found in the given range.\n",
            "Password not found in the given range.\n",
            "Password not found in the given range.\n",
            "Password not found in the given range.\n",
            "Password not found in the given range.\n",
            "Password not found in the given range.\n",
            "Password not found in the given range.\n",
            "Password not found in the given range.\n",
            "Password not found in the given range.\n",
            "Password not found in the given range.\n",
            "Password not found in the given range.\n",
            "Password not found in the given range.\n",
            "Password not found in the given range.\n",
            "Password not found in the given range.\n",
            "Password not found in the given range.\n",
            "Password not found in the given range.\n",
            "Password not found in the given range.\n",
            "Password not found in the given range.\n",
            "Password not found in the given range.\n",
            "Password not found in the given range.\n",
            "Password not found in the given range.\n",
            "Password not found in the given range.\n",
            "Password not found in the given range.\n",
            "Password not found in the given range.\n",
            "Password not found in the given range.\n",
            "Password not found in the given range.\n",
            "Password not found in the given range.\n",
            "Password not found in the given range.\n",
            "Password not found in the given range.\n",
            "Password not found in the given range.\n",
            "Password not found in the given range.\n",
            "Password not found in the given range.\n",
            "Password found: 206\n"
          ]
        }
      ],
      "source": [
        "def is_password(number, hashed_number):\n",
        "    number_string = str(number) \n",
        "    hashed_value = hash2(number_string)\n",
        "    return hashed_value == hashed_number\n",
        "\n",
        "for num in range(0, 100001):\n",
        "    if is_password(num, hashed_number):\n",
        "        print(f\"Password found: {num}\")\n",
        "        break\n",
        "    else: \n",
        "        print(\"Password not found in the given range.\")"
      ]
    }
  ],
  "metadata": {
    "kernelspec": {
      "display_name": "Python 3",
      "language": "python",
      "name": "python3"
    },
    "language_info": {
      "codemirror_mode": {
        "name": "ipython",
        "version": 3
      },
      "file_extension": ".py",
      "mimetype": "text/x-python",
      "name": "python",
      "nbconvert_exporter": "python",
      "pygments_lexer": "ipython3",
      "version": "3.12.1"
    }
  },
  "nbformat": 4,
  "nbformat_minor": 4
}
